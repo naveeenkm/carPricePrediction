


import pandas as pd
import numpy as np

from sklearn.model_selection import train_test_split
from sklearn.linear_model import LinearRegression







cars_data=pd.read_csv("Cardetails.csv")


cars_data.head()


cars_data.drop(columns=['torque'],inplace=True)



cars_data.shape








cars_data.isnull().sum()


cars_data.dropna(inplace=True)


cars_data.isnull().sum()





cars_data.duplicated().sum()


cars_data.drop_duplicates(inplace=True)


cars_data.duplicated().sum()


cars_data.info()





for col in cars_data.columns:
  print("unique values of "+col)
  print(cars_data[col].unique())
  print("====================")






def get_brand_name(car_name):
  car_name=car_name.split(' ')[0]
  return car_name.strip()


def clean_data(value):
  value=value.split(' ')[0]
  value=value.strip()
  if value=='':
    value=0
  return float(value)


get_brand_name('maruthi shuzuki')


cars_data['name']=cars_data['name'].apply(get_brand_name)


cars_data['name'].unique()


cars_data['mileage']=cars_data['mileage'].apply(clean_data)


cars_data['max_power']=cars_data['max_power'].apply(clean_data)


cars_data['engine']=cars_data['engine'].apply(clean_data)


for col in cars_data.columns:
  print("unique values of "+col)
  print(cars_data[col].unique())
  print("====================")



cars_data['name'].replace(['Maruti', 'Skoda', 'Honda', 'Hyundai', 'Toyota', 'Ford', 'Renault',
       'Mahindra', 'Tata', 'Chevrolet', 'Datsun', 'Jeep', 'Mercedes-Benz',
       'Mitsubishi', 'Audi', 'Volkswagen', 'BMW', 'Nissan', 'Lexus',
       'Jaguar', 'Land', 'MG', 'Volvo', 'Daewoo', 'Kia', 'Fiat', 'Force',
       'Ambassador', 'Ashok', 'Isuzu', 'Opel'],[i for i in range(1,32)],inplace=True)


cars_data['transmission'].unique()


cars_data['transmission'].replace(['Manual', 'Automatic'],[1,2],inplace=True)


cars_data['seller_type'].unique()


cars_data['seller_type'].replace(['Individual', 'Dealer', 'Trustmark Dealer'],[1,2,3],inplace=True)


cars_data.info()


cars_data['fuel'].unique()


cars_data['fuel'].replace(['Diesel', 'Petrol', 'LPG', 'CNG'],[1,2,3,4],inplace=True)





cars_data.reset_index(inplace=True)


cars_data


cars_data['owner'].unique()


cars_data['owner'].replace(['First Owner', 'Second Owner', 'Third Owner',
       'Fourth & Above Owner', 'Test Drive Car'],[1,2,3,4,5],inplace=True)


cars_data.drop(columns=['index'],inplace=True)


input_data=cars_data.drop(columns=['selling_price'])
output_data=cars_data['selling_price']





x_train,x_test,y_train,y_test=train_test_split(input_data,output_data,test_size=0.2)





model=LinearRegression()





model.fit(x_train,y_train)


predict=model.predict(x_test)


predict


x_train.head(1)


input_data_model=pd.DataFrame([[5,2015,12000,1,1,1,1,12.99,2494.0,100.6,5.0]],columns=['name','year','km_driven','fuel',	'seller_type','transmission',	'owner',	'mileage','engine','max_power','seats'])


input_data_model


model.predict(input_data_model)


import pickle as pk


pk.dump(model,open("model.pkl",'wb'))






